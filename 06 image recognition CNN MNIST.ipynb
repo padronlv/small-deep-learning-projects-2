{
 "cells": [
  {
   "cell_type": "code",
   "execution_count": 1,
   "metadata": {},
   "outputs": [
    {
     "name": "stderr",
     "output_type": "stream",
     "text": [
      "C:\\Users\\VPL\\Anaconda3\\lib\\site-packages\\h5py\\__init__.py:36: FutureWarning: Conversion of the second argument of issubdtype from `float` to `np.floating` is deprecated. In future, it will be treated as `np.float64 == np.dtype(float).type`.\n",
      "  from ._conv import register_converters as _register_converters\n",
      "Using TensorFlow backend.\n"
     ]
    }
   ],
   "source": [
    "import keras"
   ]
  },
  {
   "cell_type": "code",
   "execution_count": 2,
   "metadata": {},
   "outputs": [],
   "source": [
    "import keras"
   ]
  },
  {
   "cell_type": "code",
   "execution_count": 3,
   "metadata": {},
   "outputs": [
    {
     "name": "stdout",
     "output_type": "stream",
     "text": [
      "2.2.2\n"
     ]
    }
   ],
   "source": [
    "print(keras.__version__)"
   ]
  },
  {
   "cell_type": "code",
   "execution_count": 4,
   "metadata": {},
   "outputs": [],
   "source": [
    "from keras.datasets import mnist\n",
    "from keras import models, layers"
   ]
  },
  {
   "cell_type": "code",
   "execution_count": 5,
   "metadata": {},
   "outputs": [
    {
     "name": "stdout",
     "output_type": "stream",
     "text": [
      "(60000, 28, 28)\n"
     ]
    }
   ],
   "source": [
    "(train_images, train_labels), (test_images, test_labels) = mnist.load_data()\n",
    "\n",
    "print(train_images.shape)"
   ]
  },
  {
   "cell_type": "code",
   "execution_count": 6,
   "metadata": {},
   "outputs": [],
   "source": [
    "from keras import models, layers\n",
    "\n",
    "model = models.Sequential()\n",
    "\n",
    "model.add(layers.Conv2D(\n",
    "    32,\n",
    "    (3, 3),\n",
    "    activation=\"relu\",\n",
    "    input_shape=(28, 28, 1)\n",
    "))\n",
    "\n",
    "model.add(layers.MaxPooling2D((2, 2)))\n",
    "model.add(layers.Conv2D(64, (3, 3), activation=\"relu\"))\n",
    "model.add(layers.MaxPooling2D((2, 2)))\n",
    "model.add(layers.Conv2D(64, (3, 3), activation=\"relu\"))\n",
    "model.add(layers.Flatten())\n",
    "model.add(layers.Dense(64, activation='relu'))\n",
    "model.add(layers.Dense(10, activation='softmax'))\n",
    "\n",
    "\n",
    "model.compile(\n",
    "    optimizer=\"rmsprop\",\n",
    "    loss=\"categorical_crossentropy\",\n",
    "    metrics=[\"accuracy\"]\n",
    ")"
   ]
  },
  {
   "cell_type": "code",
   "execution_count": 7,
   "metadata": {},
   "outputs": [
    {
     "name": "stdout",
     "output_type": "stream",
     "text": [
      "Before 5\n",
      "After [1. 0. 0. 0. 0. 0. 0. 0. 0. 0.]\n"
     ]
    }
   ],
   "source": [
    "import matplotlib.pyplot as plt\n",
    "\n",
    "(train_images, train_labels), (test_images, test_labels) = mnist.load_data()\n",
    "\n",
    "#first number is the number of shamples\n",
    "#followed by dimensionality\n",
    "#print('Train', train_images.shape)\n",
    "#print('Test:', test_images.shape)\n",
    "\n",
    "#print one of my images\n",
    "#matplot... apply a color map, to change it, we use cmap.\n",
    "#plt.imshow(train_images[10], cmap='gray')\n",
    "#plt.title(str(train_labels[10]))\n",
    "#plt.show()\n",
    "\n",
    "train_images = train_images.reshape((60000, 28, 28, 1))\n",
    "train_images = train_images.astype(\"float32\") / 255.0\n",
    "\n",
    "test_images = test_images.reshape((10000, 28 * 28 ))\n",
    "test_images = test_images.astype('float32') / 255.0\n",
    "from keras.utils import to_categorical\n",
    "print('Before', train_labels[0])\n",
    "train_labels = to_categorical(train_labels)\n",
    "test_labels = to_categorical(test_labels)\n",
    "print('After', train_labels[1])"
   ]
  },
  {
   "cell_type": "code",
   "execution_count": 8,
   "metadata": {},
   "outputs": [
    {
     "name": "stdout",
     "output_type": "stream",
     "text": [
      "60000/60000 [==============================] - 30s 501us/step\n"
     ]
    },
    {
     "data": {
      "text/plain": [
       "[2.30251195081075, 0.045533333333333335]"
      ]
     },
     "execution_count": 8,
     "metadata": {},
     "output_type": "execute_result"
    }
   ],
   "source": [
    "#numbers weight and bias al principio are random\n",
    "model.evaluate(train_images, train_labels)"
   ]
  },
  {
   "cell_type": "code",
   "execution_count": 9,
   "metadata": {},
   "outputs": [],
   "source": [
    "#import numpy as np\n",
    "#print(np.max(model.predict(train_images[0:1])))\n",
    "#print(np.argmax(model.predict(train_images[0:1])))\n",
    "#print(train_labels[0])"
   ]
  },
  {
   "cell_type": "code",
   "execution_count": 13,
   "metadata": {},
   "outputs": [
    {
     "name": "stdout",
     "output_type": "stream",
     "text": [
      "Epoch 1/10\n",
      "60000/60000 [==============================] - 84s 1ms/step - loss: 0.0243 - acc: 0.9926\n",
      "Epoch 2/10\n",
      "60000/60000 [==============================] - 83s 1ms/step - loss: 0.0197 - acc: 0.9940\n",
      "Epoch 3/10\n",
      "60000/60000 [==============================] - 85s 1ms/step - loss: 0.0155 - acc: 0.9952: 1s - loss: 0.0154 -\n",
      "Epoch 4/10\n",
      "60000/60000 [==============================] - 86s 1ms/step - loss: 0.0133 - acc: 0.9959\n",
      "Epoch 5/10\n",
      "60000/60000 [==============================] - 84s 1ms/step - loss: 0.0107 - acc: 0.9971\n",
      "Epoch 6/10\n",
      "60000/60000 [==============================] - 83s 1ms/step - loss: 0.0093 - acc: 0.9972\n",
      "Epoch 7/10\n",
      "60000/60000 [==============================] - 85s 1ms/step - loss: 0.0087 - acc: 0.9975\n",
      "Epoch 8/10\n",
      "60000/60000 [==============================] - 85s 1ms/step - loss: 0.0067 - acc: 0.9981\n",
      "Epoch 9/10\n",
      "60000/60000 [==============================] - 83s 1ms/step - loss: 0.0060 - acc: 0.9981\n",
      "Epoch 10/10\n",
      "60000/60000 [==============================] - 84s 1ms/step - loss: 0.0053 - acc: 0.9984\n"
     ]
    }
   ],
   "source": [
    "history = model.fit(\n",
    "    train_images, train_labels,\n",
    "    epochs=10,\n",
    "    batch_size=64)"
   ]
  },
  {
   "cell_type": "code",
   "execution_count": 11,
   "metadata": {},
   "outputs": [
    {
     "name": "stdout",
     "output_type": "stream",
     "text": [
      "{'loss': [0.1714709870994091, 0.045027610690519214, 0.031581851242405055], 'acc': [0.94725, 0.9862666666666666, 0.9903333333333333]}\n"
     ]
    },
    {
     "data": {
      "image/png": "[encoded data removed]",
      "text/plain": [
       "<matplotlib.figure.Figure at 0x1d70a9b24a8>"
      ]
     },
     "metadata": {},
     "output_type": "display_data"
    },
    {
     "data": {
      "image/png": "[encoded data removed]",
      "text/plain": [
       "<matplotlib.figure.Figure at 0x1d70a71b400>"
      ]
     },
     "metadata": {},
     "output_type": "display_data"
    }
   ],
   "source": [
    "print(history.history)\n",
    "plt.plot(history.history[\"loss\"], label='loss')\n",
    "plt.legend()\n",
    "plt.show()\n",
    "plt.close()\n",
    "\n",
    "plt.plot(history.history[\"acc\"], label='acc')\n",
    "plt.legend()\n",
    "plt.show()\n",
    "plt.close()"
   ]
  },
  {
   "cell_type": "code",
   "execution_count": 12,
   "metadata": {},
   "outputs": [
    {
     "name": "stdout",
     "output_type": "stream",
     "text": [
      "60000/60000 [==============================] - 31s 515us/step\n",
      "0.021609198440678545 0.9931666666666666\n"
     ]
    }
   ],
   "source": [
    "test_loss, test_acc = model.evaluate(train_images, train_labels)\n",
    "print(test_loss, test_acc)"
   ]
  },
  {
   "cell_type": "code",
   "execution_count": null,
   "metadata": {},
   "outputs": [],
   "source": []
  }
 ],
 "metadata": {
  "kernelspec": {
   "display_name": "Python [default]",
   "language": "python",
   "name": "python3"
  },
  "language_info": {
   "codemirror_mode": {
    "name": "ipython",
    "version": 3
   },
   "file_extension": ".py",
   "mimetype": "text/x-python",
   "name": "python",
   "nbconvert_exporter": "python",
   "pygments_lexer": "ipython3",
   "version": "3.6.4"
  }
 },
 "nbformat": 4,
 "nbformat_minor": 2
}
