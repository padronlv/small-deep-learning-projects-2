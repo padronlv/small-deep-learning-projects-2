{
 "cells": [
  {
   "cell_type": "markdown",
   "metadata": {},
   "source": [
    "import os, shutil\n",
    "\n",
    "original_dataset_dir = \"cats_vs_dogs/train\"\n",
    "\n",
    "dirs = []\n",
    "\n",
    "base_dir = \"cats_vs_dogs_small\"\n",
    "dirs.append(base_dir)\n",
    "\n",
    "train_dir = os.path.join(base_dir, \"train\")\n",
    "dirs.append(train_dir)\n",
    "validation_dir = os.path.join(base_dir, \"validation\")\n",
    "dirs.append(validation_dir)\n",
    "test_dir = os.path.join(base_dir, \"test\")\n",
    "dirs.append(test_dir)\n",
    "\n",
    "train_cats_dir = os.path.join(train_dir, \"cats\")\n",
    "dirs.append(train_cats_dir)\n",
    "train_dogs_dir = os.path.join(train_dir, \"dogs\")\n",
    "dirs.append(train_dogs_dir)\n",
    "\n",
    "validation_cats_dir = os.path.join(validation_dir, \"cats\")\n",
    "dirs.append(validation_cats_dir)\n",
    "validation_dogs_dir = os.path.join(validation_dir, \"dogs\")\n",
    "dirs.append(validation_dogs_dir)\n",
    "\n",
    "test_cats_dir = os.path.join(test_dir, \"cats\")\n",
    "dirs.append(test_cats_dir)\n",
    "test_dogs_dir = os.path.join(test_dir, \"dogs\")\n",
    "dirs.append(test_dogs_dir)\n",
    "\n",
    "for directory in dirs:\n",
    "    if not os.path.exists(directory):\n",
    "       os.mkdir(directory)\n",
    "\n",
    "fnames = [\"cat.{}.jpg\".format(i) for i in range(1000)]\n",
    "for fname in fnames:\n",
    "    src = os.path.join(original_dataset_dir, fname)\n",
    "    dest = os.path.join(train_cats_dir, fname)\n",
    "    shutil.copy(src, dest)\n",
    "\n",
    "fnames = [\"cat.{}.jpg\".format(i) for i in range(1000, 1500)]\n",
    "for fname in fnames:\n",
    "    src = os.path.join(original_dataset_dir, fname)\n",
    "    dest = os.path.join(validation_cats_dir, fname)\n",
    "    shutil.copy(src, dest)\n",
    "\n",
    "fnames = [\"cat.{}.jpg\".format(i) for i in range(1500, 2000)]\n",
    "for fname in fnames:\n",
    "    src = os.path.join(original_dataset_dir, fname)\n",
    "    dest = os.path.join(test_cats_dir, fname)\n",
    "    shutil.copy(src, dest)\n",
    "\n",
    "fnames = [\"dog.{}.jpg\".format(i) for i in range(1000)]\n",
    "for fname in fnames:\n",
    "    src = os.path.join(original_dataset_dir, fname)\n",
    "    dest = os.path.join(train_dogs_dir, fname)\n",
    "    shutil.copy(src, dest)\n",
    "\n",
    "fnames = [\"dog.{}.jpg\".format(i) for i in range(1000, 1500)]\n",
    "for fname in fnames:\n",
    "    src = os.path.join(original_dataset_dir, fname)\n",
    "    dest = os.path.join(validation_dogs_dir, fname)\n",
    "    shutil.copy(src, dest)\n",
    "\n",
    "fnames = [\"dog.{}.jpg\".format(i) for i in range(1500, 2000)]\n",
    "for fname in fnames:\n",
    "    src = os.path.join(original_dataset_dir, fname)\n",
    "    dest = os.path.join(test_dogs_dir, fname)\n",
    "    shutil.copy(src, dest)\n",
    "\n",
    "for directory in dirs:\n",
    "    print(directory, \":\", len(os.listdir(directory)))\n",
    "\n",
    "print(\"Done.\")"
   ]
  },
  {
   "cell_type": "code",
   "execution_count": 1,
   "metadata": {},
   "outputs": [
    {
     "name": "stderr",
     "output_type": "stream",
     "text": [
      "C:\\Users\\VPL\\Anaconda3\\lib\\site-packages\\h5py\\__init__.py:36: FutureWarning: Conversion of the second argument of issubdtype from `float` to `np.floating` is deprecated. In future, it will be treated as `np.float64 == np.dtype(float).type`.\n",
      "  from ._conv import register_converters as _register_converters\n",
      "Using TensorFlow backend.\n"
     ]
    },
    {
     "name": "stdout",
     "output_type": "stream",
     "text": [
      "_________________________________________________________________\n",
      "Layer (type)                 Output Shape              Param #   \n",
      "=================================================================\n",
      "conv2d_1 (Conv2D)            (None, 148, 148, 32)      896       \n",
      "_________________________________________________________________\n",
      "max_pooling2d_1 (MaxPooling2 (None, 74, 74, 32)        0         \n",
      "_________________________________________________________________\n",
      "conv2d_2 (Conv2D)            (None, 72, 72, 64)        18496     \n",
      "_________________________________________________________________\n",
      "max_pooling2d_2 (MaxPooling2 (None, 36, 36, 64)        0         \n",
      "_________________________________________________________________\n",
      "conv2d_3 (Conv2D)            (None, 34, 34, 128)       73856     \n",
      "_________________________________________________________________\n",
      "max_pooling2d_3 (MaxPooling2 (None, 17, 17, 128)       0         \n",
      "_________________________________________________________________\n",
      "conv2d_4 (Conv2D)            (None, 15, 15, 128)       147584    \n",
      "_________________________________________________________________\n",
      "max_pooling2d_4 (MaxPooling2 (None, 7, 7, 128)         0         \n",
      "_________________________________________________________________\n",
      "flatten_1 (Flatten)          (None, 6272)              0         \n",
      "_________________________________________________________________\n",
      "dense_1 (Dense)              (None, 512)               3211776   \n",
      "_________________________________________________________________\n",
      "dense_2 (Dense)              (None, 1)                 513       \n",
      "=================================================================\n",
      "Total params: 3,453,121\n",
      "Trainable params: 3,453,121\n",
      "Non-trainable params: 0\n",
      "_________________________________________________________________\n"
     ]
    }
   ],
   "source": [
    "import PIL\n",
    "from keras import models, layers\n",
    "\n",
    "model = models.Sequential()\n",
    "model.add(layers.Conv2D(\n",
    "    32, (3, 3),\n",
    "    activation=\"relu\",\n",
    "    input_shape=(150, 150, 3)))\n",
    "model.add(layers.MaxPooling2D((2, 2)))\n",
    "model.add(layers.Conv2D(64, (3, 3), activation=\"relu\"))\n",
    "model.add(layers.MaxPooling2D((2, 2)))\n",
    "model.add(layers.Conv2D(128, (3, 3), activation=\"relu\"))\n",
    "model.add(layers.MaxPooling2D((2, 2)))\n",
    "model.add(layers.Conv2D(128, (3, 3), activation=\"relu\"))\n",
    "model.add(layers.MaxPooling2D((2, 2)))\n",
    "model.add(layers.Flatten())\n",
    "model.add(layers.Dense(512, activation=\"relu\"))\n",
    "# dropout layer: 0.25, pone el 25% de los weights de las conections a 0 (es como hacer la neuralnetwork olvidar algunas\n",
    "# cosas, asi que ayuda a prevenir overfitting)\n",
    "model.add(layers.Dropout(0.25))\n",
    "model.add(layers.Dense(1, activation=\"sigmoid\"))\n",
    "\n",
    "model.summary()"
   ]
  },
  {
   "cell_type": "code",
   "execution_count": 2,
   "metadata": {},
   "outputs": [],
   "source": [
    "from keras import optimizers\n",
    "model.compile(\n",
    "    optimizer=optimizers.RMSprop(lr=1e-4),\n",
    "    loss=\"binary_crossentropy\",\n",
    "    metrics=[\"accuracy\"]\n",
    ")"
   ]
  },
  {
   "cell_type": "code",
   "execution_count": 3,
   "metadata": {},
   "outputs": [],
   "source": [
    "train_dir = \"cats_vs_dogs_small\\\\train\"\n",
    "validation_dir = \"cats_vs_dogs_small\\\\validation\""
   ]
  },
  {
   "cell_type": "code",
   "execution_count": 4,
   "metadata": {},
   "outputs": [
    {
     "name": "stdout",
     "output_type": "stream",
     "text": [
      "Found 2000 images belonging to 2 classes.\n",
      "Found 1000 images belonging to 2 classes.\n"
     ]
    }
   ],
   "source": [
    "from keras.preprocessing.image import ImageDataGenerator\n",
    "train_datagen = ImageDataGenerator(rescale=1.0 / 255.0)\n",
    "test_datagen = ImageDataGenerator(rescale=1.0 / 255.0)\n",
    "train_generator = train_datagen.flow_from_directory(\n",
    "    train_dir,\n",
    "    target_size=(150, 150),\n",
    "    batch_size=20,\n",
    "    class_mode='binary'\n",
    ")\n",
    "\n",
    "validation_generator = test_datagen.flow_from_directory(\n",
    "    validation_dir,\n",
    "    target_size=(150, 150),\n",
    "    batch_size=20,\n",
    "    class_mode='binary'\n",
    ")"
   ]
  },
  {
   "cell_type": "code",
   "execution_count": 5,
   "metadata": {},
   "outputs": [
    {
     "name": "stdout",
     "output_type": "stream",
     "text": [
      "Epoch 1/30\n",
      "100/100 [==============================] - 262s 3s/step - loss: 0.6918 - acc: 0.5210 - val_loss: 0.6730 - val_acc: 0.6170\n",
      "Epoch 2/30\n",
      "100/100 [==============================] - 218s 2s/step - loss: 0.6607 - acc: 0.6140 - val_loss: 0.6442 - val_acc: 0.6390\n",
      "Epoch 3/30\n",
      "100/100 [==============================] - 215s 2s/step - loss: 0.6173 - acc: 0.6650 - val_loss: 0.6456 - val_acc: 0.6140\n",
      "Epoch 4/30\n",
      "100/100 [==============================] - 211s 2s/step - loss: 0.5799 - acc: 0.6865 - val_loss: 0.6438 - val_acc: 0.6340\n",
      "Epoch 5/30\n",
      "100/100 [==============================] - 198s 2s/step - loss: 0.5452 - acc: 0.7175 - val_loss: 0.5778 - val_acc: 0.6820\n",
      "Epoch 6/30\n",
      "100/100 [==============================] - 203s 2s/step - loss: 0.5144 - acc: 0.7385 - val_loss: 0.7221 - val_acc: 0.6160\n",
      "Epoch 7/30\n",
      "100/100 [==============================] - 212s 2s/step - loss: 0.4841 - acc: 0.7630 - val_loss: 0.5997 - val_acc: 0.6820\n",
      "Epoch 8/30\n",
      "100/100 [==============================] - 219s 2s/step - loss: 0.4582 - acc: 0.7745 - val_loss: 0.5450 - val_acc: 0.7220\n",
      "Epoch 9/30\n",
      "100/100 [==============================] - 234s 2s/step - loss: 0.4275 - acc: 0.8110 - val_loss: 0.5319 - val_acc: 0.7190\n",
      "Epoch 10/30\n",
      "100/100 [==============================] - 217s 2s/step - loss: 0.4023 - acc: 0.8285 - val_loss: 0.5553 - val_acc: 0.7210\n",
      "Epoch 11/30\n",
      "100/100 [==============================] - 221s 2s/step - loss: 0.3855 - acc: 0.8320 - val_loss: 0.5480 - val_acc: 0.7270\n",
      "Epoch 12/30\n",
      "100/100 [==============================] - 210s 2s/step - loss: 0.3521 - acc: 0.8440 - val_loss: 0.6928 - val_acc: 0.7020\n",
      "Epoch 13/30\n",
      "100/100 [==============================] - 205s 2s/step - loss: 0.3207 - acc: 0.8690 - val_loss: 0.5707 - val_acc: 0.7300\n",
      "Epoch 14/30\n",
      "100/100 [==============================] - 215s 2s/step - loss: 0.3000 - acc: 0.8750 - val_loss: 0.5758 - val_acc: 0.7350\n",
      "Epoch 15/30\n",
      "100/100 [==============================] - 222s 2s/step - loss: 0.2850 - acc: 0.8845 - val_loss: 0.5584 - val_acc: 0.7460\n",
      "Epoch 16/30\n",
      "100/100 [==============================] - 220s 2s/step - loss: 0.2526 - acc: 0.9090 - val_loss: 0.6080 - val_acc: 0.7260\n",
      "Epoch 17/30\n",
      "100/100 [==============================] - 224s 2s/step - loss: 0.2262 - acc: 0.9160 - val_loss: 0.6035 - val_acc: 0.7370\n",
      "Epoch 18/30\n",
      "100/100 [==============================] - 206s 2s/step - loss: 0.2098 - acc: 0.9165 - val_loss: 0.6052 - val_acc: 0.7290\n",
      "Epoch 19/30\n",
      "100/100 [==============================] - 199s 2s/step - loss: 0.1797 - acc: 0.9325 - val_loss: 0.6981 - val_acc: 0.7240\n",
      "Epoch 20/30\n",
      "100/100 [==============================] - 203s 2s/step - loss: 0.1750 - acc: 0.9340 - val_loss: 0.6666 - val_acc: 0.7320\n",
      "Epoch 21/30\n",
      "100/100 [==============================] - 221s 2s/step - loss: 0.1460 - acc: 0.9500 - val_loss: 0.6670 - val_acc: 0.7410\n",
      "Epoch 22/30\n",
      "100/100 [==============================] - 216s 2s/step - loss: 0.1353 - acc: 0.9535 - val_loss: 0.7363 - val_acc: 0.7220\n",
      "Epoch 23/30\n",
      "100/100 [==============================] - 236s 2s/step - loss: 0.1147 - acc: 0.9645 - val_loss: 0.7256 - val_acc: 0.7500\n",
      "Epoch 24/30\n",
      "100/100 [==============================] - 237s 2s/step - loss: 0.0924 - acc: 0.9710 - val_loss: 0.9586 - val_acc: 0.7160\n",
      "Epoch 25/30\n",
      "100/100 [==============================] - 212s 2s/step - loss: 0.0855 - acc: 0.9770 - val_loss: 1.2623 - val_acc: 0.6820\n",
      "Epoch 26/30\n",
      "100/100 [==============================] - 218s 2s/step - loss: 0.0719 - acc: 0.9790 - val_loss: 0.9202 - val_acc: 0.7310\n",
      "Epoch 27/30\n",
      "100/100 [==============================] - 225s 2s/step - loss: 0.0565 - acc: 0.9880 - val_loss: 0.9637 - val_acc: 0.7240\n",
      "Epoch 28/30\n",
      "100/100 [==============================] - 221s 2s/step - loss: 0.0520 - acc: 0.9865 - val_loss: 0.9028 - val_acc: 0.7390\n",
      "Epoch 29/30\n",
      "100/100 [==============================] - 236s 2s/step - loss: 0.0477 - acc: 0.9865 - val_loss: 0.9637 - val_acc: 0.7290\n",
      "Epoch 30/30\n",
      "100/100 [==============================] - 221s 2s/step - loss: 0.0424 - acc: 0.9875 - val_loss: 1.0244 - val_acc: 0.7300\n"
     ]
    }
   ],
   "source": [
    "\n",
    "history = model.fit_generator(\n",
    "    train_generator,\n",
    "    steps_per_epoch=100,\n",
    "    epochs=30,\n",
    "    validation_data=validation_generator,\n",
    "    validation_steps=50\n",
    ")"
   ]
  },
  {
   "cell_type": "code",
   "execution_count": 6,
   "metadata": {},
   "outputs": [
    {
     "name": "stdout",
     "output_type": "stream",
     "text": [
      "{'val_loss': [0.6730293679237366, 0.6441952753067016, 0.645631178021431, 0.6438222050666809, 0.5778421187400817, 0.7220844936370849, 0.5997381615638733, 0.5450471830368042, 0.5318583124876022, 0.5553292620182038, 0.5479553443193436, 0.6927729105949402, 0.5706869131326675, 0.5757682150602341, 0.558418248295784, 0.6080345982313156, 0.6034605515003204, 0.605195637345314, 0.6981397566199302, 0.6666337004303933, 0.6669521594047546, 0.7363271352648735, 0.725644950568676, 0.958643142580986, 1.2622926920652389, 0.9201944682002068, 0.9636925047636032, 0.9028208255767822, 0.9637228393554688, 1.024408342987299], 'val_acc': [0.6169999986886978, 0.6390000003576278, 0.6140000027418137, 0.633999999165535, 0.6819999986886978, 0.6159999990463256, 0.6819999998807907, 0.7219999957084656, 0.7190000033378601, 0.7210000026226043, 0.7270000040531158, 0.7020000016689301, 0.73, 0.7350000005960464, 0.7459999978542328, 0.7260000038146973, 0.7369999957084655, 0.7289999949932099, 0.7240000009536743, 0.7320000004768371, 0.7410000038146972, 0.7219999992847442, 0.7500000023841857, 0.7160000032186509, 0.6819999980926513, 0.7310000002384186, 0.7239999997615815, 0.7389999985694885, 0.7289999997615815, 0.73], 'loss': [0.6918232709169387, 0.66074054479599, 0.617324045598507, 0.5799282133579254, 0.5451992908120156, 0.5143982601165772, 0.48407152205705645, 0.45817787379026415, 0.4275000794231892, 0.40230090692639353, 0.38551690250635146, 0.35212800189852717, 0.3207284101843834, 0.2999882018566132, 0.2849689435213804, 0.25261788584291933, 0.22624060325324535, 0.20983011692762374, 0.17973703544586897, 0.17502845980226994, 0.14603269031271338, 0.13534553464502097, 0.11467191949486732, 0.09242814277298748, 0.08553466421552003, 0.07192338285967707, 0.05650882238987833, 0.052008484746329485, 0.04769050069153309, 0.042395956576801834], 'acc': [0.5210000006854534, 0.6140000024437904, 0.6649999979138375, 0.6865000003576278, 0.7175, 0.7384999999403954, 0.7630000028014183, 0.7744999998807907, 0.8110000002384186, 0.8285000002384186, 0.8320000010728836, 0.8439999991655349, 0.8689999973773956, 0.8749999958276748, 0.8844999974966049, 0.9089999943971634, 0.9159999942779541, 0.916499992609024, 0.9324999916553497, 0.9339999932050705, 0.9499999940395355, 0.9534999942779541, 0.9644999957084656, 0.9709999960660934, 0.9769999963045121, 0.9789999949932099, 0.987999997138977, 0.9864999985694886, 0.9864999979734421, 0.9874999988079071]}\n"
     ]
    },
    {
     "ename": "NameError",
     "evalue": "name 'plt' is not defined",
     "output_type": "error",
     "traceback": [
      "\u001b[1;31m---------------------------------------------------------------------------\u001b[0m",
      "\u001b[1;31mNameError\u001b[0m                                 Traceback (most recent call last)",
      "\u001b[1;32m<ipython-input-6-a9e6115d1ba9>\u001b[0m in \u001b[0;36m<module>\u001b[1;34m()\u001b[0m\n\u001b[0;32m      1\u001b[0m \u001b[0mprint\u001b[0m\u001b[1;33m(\u001b[0m\u001b[0mhistory\u001b[0m\u001b[1;33m.\u001b[0m\u001b[0mhistory\u001b[0m\u001b[1;33m)\u001b[0m\u001b[1;33m\u001b[0m\u001b[0m\n\u001b[1;32m----> 2\u001b[1;33m \u001b[0mplt\u001b[0m\u001b[1;33m.\u001b[0m\u001b[0mplot\u001b[0m\u001b[1;33m(\u001b[0m\u001b[0mhistory\u001b[0m\u001b[1;33m.\u001b[0m\u001b[0mhistory\u001b[0m\u001b[1;33m[\u001b[0m\u001b[1;34m\"loss\"\u001b[0m\u001b[1;33m]\u001b[0m\u001b[1;33m,\u001b[0m \u001b[0mlabel\u001b[0m\u001b[1;33m=\u001b[0m\u001b[1;34m'loss'\u001b[0m\u001b[1;33m)\u001b[0m\u001b[1;33m\u001b[0m\u001b[0m\n\u001b[0m\u001b[0;32m      3\u001b[0m \u001b[0mplt\u001b[0m\u001b[1;33m.\u001b[0m\u001b[0mlegend\u001b[0m\u001b[1;33m(\u001b[0m\u001b[1;33m)\u001b[0m\u001b[1;33m\u001b[0m\u001b[0m\n\u001b[0;32m      4\u001b[0m \u001b[0mplt\u001b[0m\u001b[1;33m.\u001b[0m\u001b[0mshow\u001b[0m\u001b[1;33m(\u001b[0m\u001b[1;33m)\u001b[0m\u001b[1;33m\u001b[0m\u001b[0m\n\u001b[0;32m      5\u001b[0m \u001b[0mplt\u001b[0m\u001b[1;33m.\u001b[0m\u001b[0mclose\u001b[0m\u001b[1;33m(\u001b[0m\u001b[1;33m)\u001b[0m\u001b[1;33m\u001b[0m\u001b[0m\n",
      "\u001b[1;31mNameError\u001b[0m: name 'plt' is not defined"
     ]
    }
   ],
   "source": [
    "print(history.history)\n",
    "plt.plot(history.history[\"loss\"], label='loss')\n",
    "plt.legend()\n",
    "plt.show()\n",
    "plt.close()\n",
    "\n",
    "plt.plot(history.history[\"acc\"], label='acc')\n",
    "plt.legend()\n",
    "plt.show()\n",
    "plt.close()"
   ]
  },
  {
   "cell_type": "code",
   "execution_count": null,
   "metadata": {},
   "outputs": [],
   "source": []
  }
 ],
 "metadata": {
  "kernelspec": {
   "display_name": "Python [conda root]",
   "language": "python",
   "name": "conda-root-py"
  },
  "language_info": {
   "codemirror_mode": {
    "name": "ipython",
    "version": 3
   },
   "file_extension": ".py",
   "mimetype": "text/x-python",
   "name": "python",
   "nbconvert_exporter": "python",
   "pygments_lexer": "ipython3",
   "version": "3.6.4"
  }
 },
 "nbformat": 4,
 "nbformat_minor": 2
}
